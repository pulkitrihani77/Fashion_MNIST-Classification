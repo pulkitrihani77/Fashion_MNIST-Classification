{
  "cells": [
    {
      "cell_type": "code",
      "source": [
        "!pip install tensorflow"
      ],
      "metadata": {
        "id": "URUL5Uth088Z"
      },
      "execution_count": null,
      "outputs": []
    },
    {
      "cell_type": "markdown",
      "source": [
        "### Importing Important Libraries"
      ],
      "metadata": {
        "id": "bMwECW3iM3Kr"
      }
    },
    {
      "cell_type": "code",
      "execution_count": null,
      "metadata": {
        "id": "dMQhPGEoBv3Z"
      },
      "outputs": [],
      "source": [
        "import pandas as pd\n",
        "import numpy as np\n",
        "import matplotlib.pyplot as plt\n",
        "import seaborn as sns\n",
        "import tensorflow as tf"
      ]
    },
    {
      "cell_type": "markdown",
      "source": [
        "# Data Preprocessing and Exploration"
      ],
      "metadata": {
        "id": "fAcw72O4NAg3"
      }
    },
    {
      "cell_type": "code",
      "execution_count": null,
      "metadata": {
        "id": "JOgjWD_IB7tM"
      },
      "outputs": [],
      "source": [
        "from tensorflow.keras.datasets import fashion_mnist"
      ]
    },
    {
      "cell_type": "code",
      "execution_count": null,
      "metadata": {
        "id": "xxgQytv2CGJp"
      },
      "outputs": [],
      "source": [
        "(x_train,y_train),(x_test,y_test) = fashion_mnist.load_data()"
      ]
    },
    {
      "cell_type": "code",
      "execution_count": null,
      "metadata": {
        "id": "BobQxnTmCNqC",
        "colab": {
          "base_uri": "https://localhost:8080/"
        },
        "outputId": "d0c7c7fb-3c7e-447b-f7ed-30f516216d95"
      },
      "outputs": [
        {
          "output_type": "execute_result",
          "data": {
            "text/plain": [
              "((60000, 28, 28), (60000,))"
            ]
          },
          "metadata": {},
          "execution_count": 300
        }
      ],
      "source": [
        "x_train.shape, y_train.shape"
      ]
    },
    {
      "cell_type": "markdown",
      "source": [
        "### Example Input"
      ],
      "metadata": {
        "id": "PCBgrWdMNJIK"
      }
    },
    {
      "cell_type": "code",
      "execution_count": null,
      "metadata": {
        "id": "IGlhr-2RCQe3",
        "colab": {
          "base_uri": "https://localhost:8080/",
          "height": 370
        },
        "outputId": "727fd4ae-dd01-400f-cc27-a74028fe56f4"
      },
      "outputs": [
        {
          "output_type": "execute_result",
          "data": {
            "text/plain": [
              "<matplotlib.colorbar.Colorbar at 0x797869b249a0>"
            ]
          },
          "metadata": {},
          "execution_count": 301
        },
        {
          "output_type": "display_data",
          "data": {
            "text/plain": [
              "<Figure size 300x400 with 2 Axes>"
            ],
            "image/png": "[encoded data removed]"
          },
          "metadata": {}
        }
      ],
      "source": [
        "plt.figure(figsize=(3,4))\n",
        "plt.imshow(x_train[40])\n",
        "plt.colorbar()"
      ]
    },
    {
      "cell_type": "markdown",
      "source": [
        "### Normalization : Changing Colorbar"
      ],
      "metadata": {
        "id": "5oqycCazNOfb"
      }
    },
    {
      "cell_type": "code",
      "execution_count": null,
      "metadata": {
        "id": "IPI7_fHgCYnw",
        "colab": {
          "base_uri": "https://localhost:8080/"
        },
        "outputId": "4b8de187-01a0-476e-b195-a13c51a81edd"
      },
      "outputs": [
        {
          "output_type": "execute_result",
          "data": {
            "text/plain": [
              "(0, 255)"
            ]
          },
          "metadata": {},
          "execution_count": 302
        }
      ],
      "source": [
        "np.min(x_train),np.max(x_train)"
      ]
    },
    {
      "cell_type": "code",
      "execution_count": null,
      "metadata": {
        "id": "wMIMdKz9Dug6",
        "colab": {
          "base_uri": "https://localhost:8080/"
        },
        "outputId": "fe8b4c0c-5e20-4a62-9f43-556623d02f42"
      },
      "outputs": [
        {
          "output_type": "execute_result",
          "data": {
            "text/plain": [
              "(0, 255)"
            ]
          },
          "metadata": {},
          "execution_count": 303
        }
      ],
      "source": [
        "np.min(x_test),np.max(x_test)"
      ]
    },
    {
      "cell_type": "code",
      "execution_count": null,
      "metadata": {
        "id": "MLpi2bRtD4eG"
      },
      "outputs": [],
      "source": [
        "x_train = x_train/255.0\n",
        "x_test = x_test/255.0"
      ]
    },
    {
      "cell_type": "code",
      "execution_count": null,
      "metadata": {
        "id": "suaAVdDZD_J7",
        "colab": {
          "base_uri": "https://localhost:8080/"
        },
        "outputId": "efb7a0fb-31b2-416f-9e38-5509df95817b"
      },
      "outputs": [
        {
          "output_type": "execute_result",
          "data": {
            "text/plain": [
              "(0.0, 1.0)"
            ]
          },
          "metadata": {},
          "execution_count": 305
        }
      ],
      "source": [
        "np.min(x_train),np.max(x_train)"
      ]
    },
    {
      "cell_type": "code",
      "execution_count": null,
      "metadata": {
        "id": "EW0IZVzCEANj",
        "colab": {
          "base_uri": "https://localhost:8080/"
        },
        "outputId": "85a66445-f367-4b92-e658-4fd1580ae175"
      },
      "outputs": [
        {
          "output_type": "execute_result",
          "data": {
            "text/plain": [
              "(0.0, 1.0)"
            ]
          },
          "metadata": {},
          "execution_count": 306
        }
      ],
      "source": [
        "np.min(x_test),np.max(x_test)"
      ]
    },
    {
      "cell_type": "code",
      "execution_count": null,
      "metadata": {
        "id": "bYAf_Z-SEBUS",
        "colab": {
          "base_uri": "https://localhost:8080/",
          "height": 376
        },
        "outputId": "19f4a56c-254b-4a91-b2ff-1efe7d2d9753"
      },
      "outputs": [
        {
          "output_type": "execute_result",
          "data": {
            "text/plain": [
              "<matplotlib.colorbar.Colorbar at 0x797869a2b4f0>"
            ]
          },
          "metadata": {},
          "execution_count": 307
        },
        {
          "output_type": "display_data",
          "data": {
            "text/plain": [
              "<Figure size 300x400 with 2 Axes>"
            ],
            "image/png": "[encoded data removed]"
          },
          "metadata": {}
        }
      ],
      "source": [
        "plt.figure(figsize=(3,4))\n",
        "plt.imshow(x_train[40])\n",
        "plt.colorbar()"
      ]
    },
    {
      "cell_type": "markdown",
      "source": [
        "### Reshape dataset from 3d to 2d"
      ],
      "metadata": {
        "id": "7wpNSS0SNl-S"
      }
    },
    {
      "cell_type": "code",
      "execution_count": null,
      "metadata": {
        "id": "-vP2Qn-IETvI"
      },
      "outputs": [],
      "source": [
        "x_train = x_train.reshape(-1,28*28)\n",
        "x_test = x_test.reshape(-1,28*28)"
      ]
    },
    {
      "cell_type": "code",
      "source": [
        "x_train.shape, x_test.shape"
      ],
      "metadata": {
        "colab": {
          "base_uri": "https://localhost:8080/"
        },
        "id": "6TTq65wINdJa",
        "outputId": "44321455-260d-4b85-ef5f-f89351118c67"
      },
      "execution_count": null,
      "outputs": [
        {
          "output_type": "execute_result",
          "data": {
            "text/plain": [
              "((60000, 784), (10000, 784))"
            ]
          },
          "metadata": {},
          "execution_count": 309
        }
      ]
    },
    {
      "cell_type": "markdown",
      "source": [
        "# Model Building"
      ],
      "metadata": {
        "id": "GxH1Xe-BNyRg"
      }
    },
    {
      "cell_type": "code",
      "execution_count": null,
      "metadata": {
        "id": "wWPAV5cdEu3L"
      },
      "outputs": [],
      "source": [
        "model = tf.keras.models.Sequential()"
      ]
    },
    {
      "cell_type": "markdown",
      "source": [
        "### Layer 1"
      ],
      "metadata": {
        "id": "ns4PC-4DN14Q"
      }
    },
    {
      "cell_type": "code",
      "execution_count": null,
      "metadata": {
        "id": "AeCiQUOFE3zL"
      },
      "outputs": [],
      "source": [
        "model.add(tf.keras.layers.Dense(units=133,activation='relu',input_shape=(784,)))"
      ]
    },
    {
      "cell_type": "markdown",
      "source": [
        "### Layer 2"
      ],
      "metadata": {
        "id": "IRghzwo8N4FW"
      }
    },
    {
      "cell_type": "code",
      "execution_count": null,
      "metadata": {
        "id": "d8VIxEBWFIpI"
      },
      "outputs": [],
      "source": [
        "model.add(tf.keras.layers.Dropout(0.3))"
      ]
    },
    {
      "cell_type": "markdown",
      "source": [
        "### Layer 3"
      ],
      "metadata": {
        "id": "cpGgx3lkN6VZ"
      }
    },
    {
      "cell_type": "code",
      "execution_count": null,
      "metadata": {
        "id": "0r4i82A_Gc2S"
      },
      "outputs": [],
      "source": [
        "model.add(tf.keras.layers.Dense(units=10,activation='softmax'))"
      ]
    },
    {
      "cell_type": "markdown",
      "source": [
        "### Compiling all Layers"
      ],
      "metadata": {
        "id": "NdkEM6z6N8Jj"
      }
    },
    {
      "cell_type": "code",
      "execution_count": null,
      "metadata": {
        "id": "KlcERg1LGjdw"
      },
      "outputs": [],
      "source": [
        "model.compile(optimizer='adam',loss='sparse_categorical_crossentropy',metrics=['sparse_categorical_accuracy'])"
      ]
    },
    {
      "cell_type": "code",
      "execution_count": null,
      "metadata": {
        "id": "u0FkCdytGxQH",
        "colab": {
          "base_uri": "https://localhost:8080/"
        },
        "outputId": "ec58b7b9-7a0e-4eb9-cef5-53e0e5d0a5db"
      },
      "outputs": [
        {
          "output_type": "stream",
          "name": "stdout",
          "text": [
            "Model: \"sequential_9\"\n",
            "_________________________________________________________________\n",
            " Layer (type)                Output Shape              Param #   \n",
            "=================================================================\n",
            " dense_32 (Dense)            (None, 133)               104405    \n",
            "                                                                 \n",
            " dropout_15 (Dropout)        (None, 133)               0         \n",
            "                                                                 \n",
            " dense_33 (Dense)            (None, 10)                1340      \n",
            "                                                                 \n",
            "=================================================================\n",
            "Total params: 105745 (413.07 KB)\n",
            "Trainable params: 105745 (413.07 KB)\n",
            "Non-trainable params: 0 (0.00 Byte)\n",
            "_________________________________________________________________\n"
          ]
        }
      ],
      "source": [
        "model.summary()"
      ]
    },
    {
      "cell_type": "markdown",
      "source": [
        "### Fitting dataset"
      ],
      "metadata": {
        "id": "Nq0KhnQJOTN4"
      }
    },
    {
      "cell_type": "code",
      "execution_count": null,
      "metadata": {
        "colab": {
          "base_uri": "https://localhost:8080/"
        },
        "id": "R_WtK3NNG1Ms",
        "outputId": "32332e02-6455-487b-a176-98c17177051f"
      },
      "outputs": [
        {
          "output_type": "stream",
          "name": "stdout",
          "text": [
            "Epoch 1/30\n",
            "4000/4000 [==============================] - 13s 3ms/step - loss: 0.5396 - sparse_categorical_accuracy: 0.8061\n",
            "Epoch 2/30\n",
            "4000/4000 [==============================] - 7s 2ms/step - loss: 0.4221 - sparse_categorical_accuracy: 0.8461\n",
            "Epoch 3/30\n",
            "4000/4000 [==============================] - 7s 2ms/step - loss: 0.3905 - sparse_categorical_accuracy: 0.8569\n",
            "Epoch 4/30\n",
            "4000/4000 [==============================] - 7s 2ms/step - loss: 0.3716 - sparse_categorical_accuracy: 0.8654\n",
            "Epoch 5/30\n",
            "4000/4000 [==============================] - 7s 2ms/step - loss: 0.3557 - sparse_categorical_accuracy: 0.8682\n",
            "Epoch 6/30\n",
            "4000/4000 [==============================] - 7s 2ms/step - loss: 0.3472 - sparse_categorical_accuracy: 0.8719\n",
            "Epoch 7/30\n",
            "4000/4000 [==============================] - 7s 2ms/step - loss: 0.3402 - sparse_categorical_accuracy: 0.8741\n",
            "Epoch 8/30\n",
            "4000/4000 [==============================] - 7s 2ms/step - loss: 0.3277 - sparse_categorical_accuracy: 0.8773\n",
            "Epoch 9/30\n",
            "4000/4000 [==============================] - 7s 2ms/step - loss: 0.3235 - sparse_categorical_accuracy: 0.8814\n",
            "Epoch 10/30\n",
            "4000/4000 [==============================] - 7s 2ms/step - loss: 0.3183 - sparse_categorical_accuracy: 0.8819\n",
            "Epoch 11/30\n",
            "4000/4000 [==============================] - 7s 2ms/step - loss: 0.3109 - sparse_categorical_accuracy: 0.8840\n",
            "Epoch 12/30\n",
            "4000/4000 [==============================] - 7s 2ms/step - loss: 0.3066 - sparse_categorical_accuracy: 0.8863\n",
            "Epoch 13/30\n",
            "4000/4000 [==============================] - 7s 2ms/step - loss: 0.2998 - sparse_categorical_accuracy: 0.8886\n",
            "Epoch 14/30\n",
            "4000/4000 [==============================] - 7s 2ms/step - loss: 0.2980 - sparse_categorical_accuracy: 0.8888\n",
            "Epoch 15/30\n",
            "4000/4000 [==============================] - 8s 2ms/step - loss: 0.2927 - sparse_categorical_accuracy: 0.8910\n",
            "Epoch 16/30\n",
            "4000/4000 [==============================] - 7s 2ms/step - loss: 0.2881 - sparse_categorical_accuracy: 0.8911\n",
            "Epoch 17/30\n",
            "4000/4000 [==============================] - 7s 2ms/step - loss: 0.2849 - sparse_categorical_accuracy: 0.8935\n",
            "Epoch 18/30\n",
            "4000/4000 [==============================] - 7s 2ms/step - loss: 0.2789 - sparse_categorical_accuracy: 0.8948\n",
            "Epoch 19/30\n",
            "4000/4000 [==============================] - 7s 2ms/step - loss: 0.2828 - sparse_categorical_accuracy: 0.8956\n",
            "Epoch 20/30\n",
            "4000/4000 [==============================] - 7s 2ms/step - loss: 0.2750 - sparse_categorical_accuracy: 0.8976\n",
            "Epoch 21/30\n",
            "4000/4000 [==============================] - 7s 2ms/step - loss: 0.2759 - sparse_categorical_accuracy: 0.8966\n",
            "Epoch 22/30\n",
            "4000/4000 [==============================] - 7s 2ms/step - loss: 0.2714 - sparse_categorical_accuracy: 0.8982\n",
            "Epoch 23/30\n",
            "4000/4000 [==============================] - 7s 2ms/step - loss: 0.2702 - sparse_categorical_accuracy: 0.8990\n",
            "Epoch 24/30\n",
            "4000/4000 [==============================] - 7s 2ms/step - loss: 0.2637 - sparse_categorical_accuracy: 0.9011\n",
            "Epoch 25/30\n",
            "4000/4000 [==============================] - 7s 2ms/step - loss: 0.2626 - sparse_categorical_accuracy: 0.9003\n",
            "Epoch 26/30\n",
            "4000/4000 [==============================] - 7s 2ms/step - loss: 0.2636 - sparse_categorical_accuracy: 0.9007\n",
            "Epoch 27/30\n",
            "4000/4000 [==============================] - 7s 2ms/step - loss: 0.2606 - sparse_categorical_accuracy: 0.9021\n",
            "Epoch 28/30\n",
            "4000/4000 [==============================] - 7s 2ms/step - loss: 0.2582 - sparse_categorical_accuracy: 0.9024\n",
            "Epoch 29/30\n",
            "4000/4000 [==============================] - 7s 2ms/step - loss: 0.2507 - sparse_categorical_accuracy: 0.9049\n",
            "Epoch 30/30\n",
            "4000/4000 [==============================] - 7s 2ms/step - loss: 0.2521 - sparse_categorical_accuracy: 0.9047\n"
          ]
        },
        {
          "output_type": "execute_result",
          "data": {
            "text/plain": [
              "<keras.src.callbacks.History at 0x7978698aeb60>"
            ]
          },
          "metadata": {},
          "execution_count": 316
        }
      ],
      "source": [
        "model.fit(x_train,y_train,batch_size=15,epochs=30)"
      ]
    },
    {
      "cell_type": "code",
      "execution_count": null,
      "metadata": {
        "colab": {
          "base_uri": "https://localhost:8080/"
        },
        "id": "BCbfYmPNG6zY",
        "outputId": "851994ea-cbca-46bf-aaea-f54dfab49212"
      },
      "outputs": [
        {
          "output_type": "stream",
          "name": "stdout",
          "text": [
            "313/313 [==============================] - 0s 1ms/step\n"
          ]
        }
      ],
      "source": [
        "# y_pred = model.predict_classes()\n",
        "y_pred = np.argmax(model.predict(x_test), axis=-1)"
      ]
    },
    {
      "cell_type": "markdown",
      "source": [
        "# Accuracy"
      ],
      "metadata": {
        "id": "Q3sSWiYGOsob"
      }
    },
    {
      "cell_type": "code",
      "execution_count": null,
      "metadata": {
        "colab": {
          "base_uri": "https://localhost:8080/"
        },
        "id": "SBdz9U69HTcD",
        "outputId": "ebf4a632-cefe-4b21-cecb-b761234ca058"
      },
      "outputs": [
        {
          "output_type": "stream",
          "name": "stdout",
          "text": [
            "313/313 [==============================] - 0s 1ms/step - loss: 0.3685 - sparse_categorical_accuracy: 0.8822\n"
          ]
        }
      ],
      "source": [
        "test_loss,test_acc = model.evaluate(x_test,y_test)"
      ]
    },
    {
      "cell_type": "code",
      "execution_count": null,
      "metadata": {
        "colab": {
          "base_uri": "https://localhost:8080/"
        },
        "id": "_uvuNFYKLVQL",
        "outputId": "8531634c-710d-480e-8d21-db35ae532293"
      },
      "outputs": [
        {
          "output_type": "execute_result",
          "data": {
            "text/plain": [
              "0.8822000026702881"
            ]
          },
          "metadata": {},
          "execution_count": 319
        }
      ],
      "source": [
        "test_acc"
      ]
    },
    {
      "cell_type": "markdown",
      "source": [
        "### Checking some values"
      ],
      "metadata": {
        "id": "bnYcGoENOed6"
      }
    },
    {
      "cell_type": "code",
      "execution_count": null,
      "metadata": {
        "colab": {
          "base_uri": "https://localhost:8080/"
        },
        "id": "IY4yBHXdHHA3",
        "outputId": "f6906b58-4f55-4503-df8e-1f64e17bc1ee"
      },
      "outputs": [
        {
          "output_type": "stream",
          "name": "stdout",
          "text": [
            "9 9\n",
            "2 2\n",
            "1 1\n",
            "1 1\n",
            "6 6\n"
          ]
        }
      ],
      "source": [
        "for i in range(0,5):\n",
        "  print(y_pred[i],y_test[i])"
      ]
    },
    {
      "cell_type": "code",
      "source": [],
      "metadata": {
        "id": "w6eyajjjPY_z"
      },
      "execution_count": null,
      "outputs": []
    }
  ],
  "metadata": {
    "colab": {
      "provenance": []
    },
    "kernelspec": {
      "display_name": "Python 3",
      "name": "python3"
    },
    "language_info": {
      "name": "python"
    }
  },
  "nbformat": 4,
  "nbformat_minor": 0
}